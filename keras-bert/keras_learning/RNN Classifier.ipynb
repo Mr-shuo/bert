{
 "cells": [
  {
   "cell_type": "code",
   "execution_count": null,
   "metadata": {},
   "outputs": [
    {
     "name": "stdout",
     "output_type": "stream",
     "text": [
      "step 0 test cost:  2.308062791824341 test accuracy:  0.12449999898672104\n",
      "step 500 test cost:  0.36845862865448 test accuracy:  0.8931999802589417\n",
      "step 1000 test cost:  0.22872890532016754 test accuracy:  0.9344000220298767\n",
      "step 1500 test cost:  0.19329142570495605 test accuracy:  0.9445000290870667\n",
      "step 2000 test cost:  0.1605876088142395 test accuracy:  0.953499972820282\n",
      "step 2500 test cost:  0.14145895838737488 test accuracy:  0.9567000269889832\n"
     ]
    }
   ],
   "source": [
    "import numpy as np\n",
    "np.random.seed(1337)  # for reproducibility\n",
    "\n",
    "import os\n",
    "os.environ[\"CUDA_VISIBLE_DEVICES\"] = \"3\"\n",
    "\n",
    "from keras.datasets import mnist\n",
    "from keras.utils import np_utils\n",
    "from keras.models import Sequential\n",
    "from keras.layers import SimpleRNN, Activation, Dense\n",
    "from keras.optimizers import Adam\n",
    "\n",
    "TIME_STEPS = 28     # same as the height of the image\n",
    "INPUT_SIZE = 28     # same as the width of the image\n",
    "BATCH_SIZE = 500\n",
    "BATCH_INDEX = 0\n",
    "OUTPUT_SIZE = 10\n",
    "CELL_SIZE = 50\n",
    "# cell_size 隐藏层个数\n",
    "LR = 0.001\n",
    "\n",
    "\n",
    "(X_train, y_train), (X_test, y_test) = mnist.load_data()\n",
    "X_train = X_train.reshape(-1, 28, 28)/255\n",
    "X_test = X_test.reshape(-1, 28, 28)/255\n",
    "y_train = np_utils.to_categorical(y_train, num_classes=10)\n",
    "y_test = np_utils.to_categorical(y_test, num_classes=10)\n",
    "\n",
    "\n",
    "model = Sequential()\n",
    "\n",
    "model.add(SimpleRNN(\n",
    "    batch_input_shape = (None, TIME_STEPS, INPUT_SIZE),\n",
    "    units = CELL_SIZE,\n",
    "    unroll = True,\n",
    "))\n",
    "\n",
    "model.add(Dense(OUTPUT_SIZE))\n",
    "model.add(Activation('softmax'))\n",
    "\n",
    "adam = Adam(LR)\n",
    "model.compile(optimizer=adam,\n",
    "             loss='categorical_crossentropy',\n",
    "             metrics=['accuracy'])\n",
    "\n",
    "\n",
    "for step in range(4001):\n",
    "    X_batch = X_train[BATCH_INDEX: BATCH_INDEX+BATCH_SIZE, :, :]\n",
    "    Y_batch = y_train[BATCH_INDEX: BATCH_INDEX+BATCH_SIZE, :]\n",
    "    cost = model.train_on_batch(X_batch, Y_batch)\n",
    "    BATCH_INDEX += BATCH_SIZE\n",
    "    BATCH_INDEX = 0 if BATCH_INDEX >= X_train.shape[0] else BATCH_INDEX\n",
    "    \n",
    "    if step % 500 == 0:\n",
    "        cost, accuracy = model.evaluate(X_test, y_test, batch_size=y_test.shape[0], verbose=False)\n",
    "        print('step', step, 'test cost: ', cost, 'test accuracy: ', accuracy)\n",
    "    \n"
   ]
  },
  {
   "cell_type": "code",
   "execution_count": null,
   "metadata": {},
   "outputs": [],
   "source": []
  }
 ],
 "metadata": {
  "kernelspec": {
   "display_name": "Python 3",
   "language": "python",
   "name": "python3"
  },
  "language_info": {
   "codemirror_mode": {
    "name": "ipython",
    "version": 3
   },
   "file_extension": ".py",
   "mimetype": "text/x-python",
   "name": "python",
   "nbconvert_exporter": "python",
   "pygments_lexer": "ipython3",
   "version": "3.7.4"
  }
 },
 "nbformat": 4,
 "nbformat_minor": 2
}
