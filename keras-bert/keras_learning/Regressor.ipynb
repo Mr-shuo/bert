{
 "cells": [
  {
   "cell_type": "code",
   "execution_count": 1,
   "metadata": {},
   "outputs": [
    {
     "data": {
      "image/png": "[encoded data removed]",
      "text/plain": [
       "<Figure size 432x288 with 1 Axes>"
      ]
     },
     "metadata": {
      "needs_background": "light"
     },
     "output_type": "display_data"
    }
   ],
   "source": [
    "import numpy as np\n",
    "np.random.seed(1337)  # for reproducibility\n",
    "from keras.models import Sequential\n",
    "from keras.layers import Dense\n",
    "import matplotlib.pyplot as plt # 可视化模块\n",
    "\n",
    "\n",
    "%matplotlib inline\n",
    "# create some data\n",
    "X = np.linspace(-1, 1, 200)\n",
    "np.random.shuffle(X)    # randomize the data\n",
    "Y = 0.5 * X + 2 + np.random.normal(0, 0.05, (200, ))\n",
    "# plot data\n",
    "plt.scatter(X, Y)\n",
    "plt.show()\n",
    "\n",
    "X_train, Y_train = X[:160], Y[:160]     # train 前 160 data points\n",
    "X_test, Y_test = X[160:], Y[160:]       # test 后 40 data points"
   ]
  },
  {
   "cell_type": "code",
   "execution_count": 2,
   "metadata": {},
   "outputs": [],
   "source": [
    "model = Sequential()\n",
    "model.add(Dense(1, input_dim=1))\n",
    "model.compile(loss='mse', optimizer='sgd')"
   ]
  },
  {
   "cell_type": "code",
   "execution_count": 3,
   "metadata": {},
   "outputs": [
    {
     "name": "stdout",
     "output_type": "stream",
     "text": [
      "Training-------\n",
      "train cost: 4.184391975402832\n",
      "train cost: 0.13128018379211426\n",
      "train cost: 0.01891341432929039\n",
      "train cost: 0.006474502384662628\n",
      "Testing--------\n",
      "1/1 [==============================] - 0s 1ms/step - loss: 0.0060\n",
      "test cost: 0.0060463277623057365\n",
      "Weights= [[0.38623765]] \n",
      "biases= [1.9972684]\n"
     ]
    }
   ],
   "source": [
    "print('Training-------')\n",
    "for step in range(301):\n",
    "    cost = model.train_on_batch(X_train, Y_train)\n",
    "    if step%100==0:\n",
    "        print('train cost:', cost)\n",
    "        \n",
    "        \n",
    "print('Testing--------')\n",
    "cost=model.evaluate(X_test,Y_test,batch_size=40)\n",
    "print('test cost:', cost)\n",
    "W, b=model.layers[0].get_weights()\n",
    "print('Weights=',W, '\\nbiases=', b)"
   ]
  }
 ],
 "metadata": {
  "kernelspec": {
   "display_name": "Python 3",
   "language": "python",
   "name": "python3"
  },
  "language_info": {
   "codemirror_mode": {
    "name": "ipython",
    "version": 3
   },
   "file_extension": ".py",
   "mimetype": "text/x-python",
   "name": "python",
   "nbconvert_exporter": "python",
   "pygments_lexer": "ipython3",
   "version": "3.7.4"
  }
 },
 "nbformat": 4,
 "nbformat_minor": 2
}
