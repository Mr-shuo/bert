{
 "cells": [
  {
   "cell_type": "code",
   "execution_count": 1,
   "metadata": {},
   "outputs": [
    {
     "name": "stdout",
     "output_type": "stream",
     "text": [
      "{'the': 1, 'cat': 2, 'sat': 3, 'on': 4, 'mat': 5, 'i': 6, 'love': 7, 'green': 8, 'eggs': 9, 'and': 10, 'ham': 11}\n"
     ]
    }
   ],
   "source": [
    "from keras.preprocessing.text import Tokenizer\n",
    "from keras.preprocessing.sequence import pad_sequences\n",
    "from keras.models import Sequential\n",
    "from keras.layers import Embedding, Flatten, Dense\n",
    "\n",
    "\n",
    "docs = [\"The cat sat on the mat.\", \"I love green eggs and ham.\"]\n",
    "\n",
    "max_words = 9\n",
    "# 只考虑最常见的9个单词\n",
    "max_len = 5\n",
    "# 统一序列化长度\n",
    "embedding_dims = 3\n",
    "# 嵌入维度\n",
    "\n",
    "# 分词\n",
    "tokenizer = Tokenizer(num_words=max_words)\n",
    "tokenizer.fit_on_texts(docs)\n",
    "\n",
    "#生成字典\n",
    "word_index = tokenizer.word_index\n",
    "print(word_index)"
   ]
  },
  {
   "cell_type": "code",
   "execution_count": 2,
   "metadata": {},
   "outputs": [
    {
     "name": "stdout",
     "output_type": "stream",
     "text": [
      "[[1, 2, 3, 4, 1, 5], [6, 7, 8]]\n",
      "[[2 3 4 1 5]\n",
      " [0 0 6 7 8]]\n"
     ]
    }
   ],
   "source": [
    "# 序列化\n",
    "sequences = tokenizer.texts_to_sequences(docs)\n",
    "print(sequences)\n",
    "# 统一序列长度\n",
    "data = pad_sequences(sequences, maxlen=max_len)\n",
    "print(data)"
   ]
  },
  {
   "cell_type": "code",
   "execution_count": 4,
   "metadata": {},
   "outputs": [
    {
     "name": "stdout",
     "output_type": "stream",
     "text": [
      "[[[-0.00292559 -0.04992212 -0.04366062]\n",
      "  [ 0.01076051 -0.03242324  0.02076508]\n",
      "  [-0.00455843 -0.03653208 -0.00788287]\n",
      "  [-0.0149475   0.04119522  0.03264712]\n",
      "  [ 0.04683765 -0.00638938 -0.04281424]]\n",
      "\n",
      " [[ 0.04675872  0.015482   -0.0307904 ]\n",
      "  [ 0.04675872  0.015482   -0.0307904 ]\n",
      "  [-0.0479466  -0.02100326 -0.02366737]\n",
      "  [-0.02635015  0.0478604   0.02456227]\n",
      "  [ 0.04056449 -0.02963911  0.03667369]]]\n",
      "(2, 5, 3)\n",
      "[array([[ 0.04675872,  0.015482  , -0.0307904 ],\n",
      "       [-0.0149475 ,  0.04119522,  0.03264712],\n",
      "       [-0.00292559, -0.04992212, -0.04366062],\n",
      "       [ 0.01076051, -0.03242324,  0.02076508],\n",
      "       [-0.00455843, -0.03653208, -0.00788287],\n",
      "       [ 0.04683765, -0.00638938, -0.04281424],\n",
      "       [-0.0479466 , -0.02100326, -0.02366737],\n",
      "       [-0.02635015,  0.0478604 ,  0.02456227],\n",
      "       [ 0.04056449, -0.02963911,  0.03667369]], dtype=float32)]\n"
     ]
    }
   ],
   "source": [
    "# Embedding模型\n",
    "model = Sequential()\n",
    "# Embedding至少需要max_words和embedding_dims两个参数\n",
    "model.add(Embedding(max_words, embedding_dims, input_length=max_len, name='Embedding'))\n",
    "model.compile('rmsprop', 'mse')\n",
    "\n",
    "out = model.predict(data)\n",
    "print(out)\n",
    "print(out.shape)\n",
    "# 查看权重\n",
    "layer = model.get_layer('Embedding')\n",
    "print(layer.get_weights())"
   ]
  },
  {
   "cell_type": "code",
   "execution_count": null,
   "metadata": {},
   "outputs": [],
   "source": []
  }
 ],
 "metadata": {
  "kernelspec": {
   "display_name": "Python 3",
   "language": "python",
   "name": "python3"
  },
  "language_info": {
   "codemirror_mode": {
    "name": "ipython",
    "version": 3
   },
   "file_extension": ".py",
   "mimetype": "text/x-python",
   "name": "python",
   "nbconvert_exporter": "python",
   "pygments_lexer": "ipython3",
   "version": "3.7.4"
  }
 },
 "nbformat": 4,
 "nbformat_minor": 2
}
