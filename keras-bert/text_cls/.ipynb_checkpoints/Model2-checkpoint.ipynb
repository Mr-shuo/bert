{
 "cells": [
  {
   "cell_type": "code",
   "execution_count": 1,
   "metadata": {},
   "outputs": [],
   "source": [
    "import xlrd\n",
    "import pandas as pd\n",
    "import numpy as np\n",
    "\n",
    "def prepocessing(path, flag):\n",
    "    data = xlrd.open_workbook(path) # 打开xls文件\n",
    "    table = data.sheets()[0] # 打开第一张表\n",
    "    rows = table.nrows      # 获取表的行数\n",
    "    list = []\n",
    "    dict = {}\n",
    "    for i in range(rows):\n",
    "        dict = {}\n",
    "        dict['comment'] = table.row_values(i)\n",
    "        dict['mark'] = flag\n",
    "        list.append(dict)\n",
    "    return list\n",
    "\n",
    "list_pos = prepocessing('./pos.xls',1)\n",
    "list_neg = prepocessing('./neg.xls',-1)\n",
    "\n",
    "pos = pd.DataFrame(list_pos)\n",
    "neg = pd.DataFrame(list_neg)\n",
    "\n",
    "\n",
    "mydata = pd.concat([neg,pos],ignore_index=True)[['comment','mark']] #结果文件"
   ]
  },
  {
   "cell_type": "code",
   "execution_count": 2,
   "metadata": {},
   "outputs": [],
   "source": [
    "# 导入正负词典\n",
    "dict_neg = []\n",
    "dict_pos = []\n",
    "dict_no = []\n",
    "dict_degree = []\n",
    "file1 = pd.read_csv('dict/Dictionary of Negative Emotions.txt', header=None, encoding='utf-8')\n",
    "for i in range(len(file1[0])):\n",
    "    dict_neg.append(file1[0][i])\n",
    "file2 = pd.read_csv('dict/Dictionary of Negative Words.txt', header=None, encoding='utf-8')\n",
    "for i in range(len(file2[0])):\n",
    "    dict_no.append(file2[0][i])\n",
    "file3 = pd.read_csv('dict/Dictionary of Degree Adverbs.txt', header=None, encoding='utf-8')\n",
    "for i in range(len(file3[0])):\n",
    "    dict_degree.append(file3[0][i])\n",
    "file4 = pd.read_csv('dict/Dictionary of Positive Emotions.txt', header=None, encoding='utf-8')\n",
    "for i in range(len(file4[0])):\n",
    "    dict_pos.append(file4[0][i])"
   ]
  },
  {
   "cell_type": "code",
   "execution_count": 3,
   "metadata": {},
   "outputs": [],
   "source": [
    "import jieba\n",
    "\n",
    "def predict(sen, dict_pos, dict_neg, dict_degree, dict_no):\n",
    "    score = 0\n",
    "    cut_sen = list(jieba.cut(sen))\n",
    "    for i in range(len(cut_sen)):\n",
    "        if cut_sen[i] in dict_neg:\n",
    "            # 是负情感词汇\n",
    "            if i>0 and cut_sen[i-1] in dict_no:\n",
    "                score = score + 1\n",
    "            elif i>0 and cut_sen[i-1] in dict_degree:\n",
    "                score = score - 2\n",
    "            else:\n",
    "                score = score - 1\n",
    "        elif cut_sen[i] in dict_pos:\n",
    "            if i>0 and cut_sen[i-1] in dict_no:\n",
    "                score = score - 1\n",
    "            elif i>0 and cut_sen[i-1] in dict_degree:\n",
    "                score = score + 2\n",
    "            elif i>0 and cut_sen[i-1] in dict_neg:\n",
    "                score = score - 1\n",
    "            elif i<len(cut_sen)-1 and cut_sen[i+1] in dict_neg:\n",
    "                score = score - 1\n",
    "            else:\n",
    "                score = score + 1\n",
    "        elif cut_sen[i] in dict_no:\n",
    "            score = score - 0.5\n",
    "            \n",
    "    return score"
   ]
  },
  {
   "cell_type": "code",
   "execution_count": null,
   "metadata": {},
   "outputs": [],
   "source": [
    "cnt = 0\n",
    "yes = 0\n",
    "mydata['result'] = 0\n",
    "for i in range(len(mydata)):\n",
    "    cnt = cnt + 1\n",
    "    if predict(mydata.loc[i,'comment'], dict_neg, dict_pos, dict_no, dict_degreec)*mydata.loc[i,'mark'] > 0:\n",
    "        yes = yes + 1\n",
    "        mydata.loc[i,'result'] = 1\n",
    "        print(i, 'correct')\n",
    "    else:\n",
    "        mydata.loc[i,'result'] = 0\n",
    "        print(i, 'false')\n",
    "        \n",
    "        \n",
    "print(yes/cnt)"
   ]
  }
 ],
 "metadata": {
  "kernelspec": {
   "display_name": "Python 3",
   "language": "python",
   "name": "python3"
  },
  "language_info": {
   "codemirror_mode": {
    "name": "ipython",
    "version": 3
   },
   "file_extension": ".py",
   "mimetype": "text/x-python",
   "name": "python",
   "nbconvert_exporter": "python",
   "pygments_lexer": "ipython3",
   "version": "3.7.4"
  }
 },
 "nbformat": 4,
 "nbformat_minor": 2
}
